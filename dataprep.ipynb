{
 "metadata": {
  "language_info": {
   "codemirror_mode": {
    "name": "ipython",
    "version": 3
   },
   "file_extension": ".py",
   "mimetype": "text/x-python",
   "name": "python",
   "nbconvert_exporter": "python",
   "pygments_lexer": "ipython3",
   "version": "3.8.3-final"
  },
  "orig_nbformat": 2,
  "kernelspec": {
   "name": "Python 3.8.3 64-bit",
   "display_name": "Python 3.8.3 64-bit",
   "metadata": {
    "interpreter": {
     "hash": "ddc05eb0f6221e94675112570d5d5c9ef6da63f3aca5ffc482fa97094b36778d"
    }
   }
  }
 },
 "nbformat": 4,
 "nbformat_minor": 2,
 "cells": [
  {
   "cell_type": "code",
   "execution_count": 20,
   "metadata": {},
   "outputs": [],
   "source": [
    "# convert yahoo news data to useful csv file\n",
    "import pandas as pd\n",
    "\n",
    "df = pd.read_fwf(\"Data/ydata.txt\", header=None)\n",
    "df.columns = [\"Timestamp\", \"DisplayedArticle\", \"UserClick\", \"|user\", \"ConstantFeature\", \"F\"]"
   ]
  },
  {
   "cell_type": "code",
   "execution_count": 21,
   "metadata": {},
   "outputs": [],
   "source": [
    "dt = df.join(df['F'].str.split(\"|\", 1, expand=True).rename(columns={0:'UserFeatures', 1:'A'}))\n",
    "dt.drop(columns='F', inplace= True)"
   ]
  },
  {
   "cell_type": "code",
   "execution_count": 22,
   "metadata": {},
   "outputs": [],
   "source": [
    "da = dt['A'].str.replace('\\|id-|id-|\\|id|\\||i', '')\n",
    "dt = dt.join(da.rename('AvailableArticles'))\n",
    "dt.drop(columns={'A','|user','ConstantFeature', 'Timestamp'}, inplace=True)\n",
    "c = dt['DisplayedArticle'].str.replace('id-', '')\n",
    "dt = dt.assign(DisplayedArticle=c)"
   ]
  },
  {
   "cell_type": "code",
   "execution_count": 23,
   "metadata": {},
   "outputs": [],
   "source": [
    "dt.to_csv(path_or_buf='Data/data.csv',index=False)"
   ]
  },
  {
   "source": [
    "df = pd.read_csv('Data/data.csv')\n",
    "df.dropna(0, inplace=True)"
   ],
   "cell_type": "code",
   "metadata": {},
   "execution_count": 24,
   "outputs": []
  },
  {
   "cell_type": "code",
   "execution_count": 25,
   "metadata": {},
   "outputs": [],
   "source": [
    "a = df['UserFeatures'].str.strip()\n",
    "df = df.assign(UserFeatures=a)\n",
    "a = df['AvailableArticles'].str.strip()\n",
    "df = df.assign(AvailableArticles=a)"
   ]
  },
  {
   "cell_type": "code",
   "execution_count": 26,
   "metadata": {},
   "outputs": [],
   "source": [
    "b = df['UserFeatures'].str.split(' ')\n",
    "for index,a in b.iteritems():\n",
    "    x = [int(i) for i in a]\n",
    "    b[index] = x\n",
    "df['UserFeatures'] = b"
   ]
  },
  {
   "cell_type": "code",
   "execution_count": 27,
   "metadata": {},
   "outputs": [],
   "source": [
    "c = df['AvailableArticles'].str.split(' ')\n",
    "for index,a in c.iteritems():\n",
    "    x = [int(i) for i in a]\n",
    "    c[index] = x\n",
    "df['AvailableArticles'] = c"
   ]
  },
  {
   "cell_type": "code",
   "execution_count": 28,
   "metadata": {},
   "outputs": [],
   "source": [
    "df.to_csv(path_or_buf='Data/data.csv',index=False)"
   ]
  },
  {
   "cell_type": "code",
   "execution_count": null,
   "metadata": {},
   "outputs": [],
   "source": []
  }
 ]
}