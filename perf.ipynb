{
 "metadata": {
  "language_info": {
   "codemirror_mode": {
    "name": "ipython",
    "version": 3
   },
   "file_extension": ".py",
   "mimetype": "text/x-python",
   "name": "python",
   "nbconvert_exporter": "python",
   "pygments_lexer": "ipython3",
   "version": "3.8.3-final"
  },
  "orig_nbformat": 2,
  "kernelspec": {
   "name": "python3",
   "display_name": "Python 3.8.3 64-bit",
   "metadata": {
    "interpreter": {
     "hash": "ddc05eb0f6221e94675112570d5d5c9ef6da63f3aca5ffc482fa97094b36778d"
    }
   }
  }
 },
 "nbformat": 4,
 "nbformat_minor": 2,
 "cells": [
  {
   "cell_type": "code",
   "execution_count": 1,
   "metadata": {},
   "outputs": [],
   "source": [
    "import main\n",
    "import numpy as np"
   ]
  },
  {
   "cell_type": "code",
   "execution_count": 2,
   "metadata": {},
   "outputs": [
    {
     "output_type": "stream",
     "name": "stdout",
     "text": [
      "5432561 events read with 47 articles\n"
     ]
    }
   ],
   "source": [
    "paths = ['Data/ydata4']\n",
    "main.read_news_data(paths)"
   ]
  },
  {
   "cell_type": "code",
   "execution_count": 3,
   "metadata": {},
   "outputs": [],
   "source": [
    "from mab import Egreedy, ThompsonSampling, Ucb1, LinUcb"
   ]
  },
  {
   "cell_type": "code",
   "execution_count": 4,
   "metadata": {},
   "outputs": [
    {
     "output_type": "stream",
     "name": "stdout",
     "text": [
      "E-Greedy e=0.01\nExecution time:  33.3s\nCTR achieved:  0.04695\n"
     ]
    }
   ],
   "source": [
    "bandits = [Egreedy(0.01, main.arms_number)]\n",
    "for b in bandits:\n",
    "    main.run(b, train_ratio=0.98)"
   ]
  },
  {
   "cell_type": "code",
   "execution_count": 5,
   "metadata": {},
   "outputs": [
    {
     "output_type": "stream",
     "name": "stdout",
     "text": [
      "ThompsonSampling\n",
      "Execution time:  2.0m\n",
      "CTR achieved:  0.0548\n",
      "UCB1 α=0.01\n",
      "Execution time:  1.8m\n",
      "CTR achieved:  0.05598\n",
      "LinUcb alpha=0.3\n",
      "Execution time:  155.2m\n",
      "CTR achieved:  0.06804\n"
     ]
    }
   ],
   "source": [
    "bandits = [ThompsonSampling(main.arms_number), Ucb1(0.01, main.arms_number), LinUcb(0.3, main.arms_number)]\n",
    "for b in bandits:\n",
    "    main.run(b, train_ratio=0.95)"
   ]
  },
  {
   "cell_type": "code",
   "execution_count": 6,
   "metadata": {},
   "outputs": [
    {
     "output_type": "stream",
     "name": "stdout",
     "text": [
      "E-Greedy e=0.01\nExecution time:  2.7s\nCTR achieved:  0.03912\n"
     ]
    }
   ],
   "source": [
    "a = main.run(Egreedy(0.01, main.arms_number), random=True)"
   ]
  },
  {
   "cell_type": "code",
   "execution_count": null,
   "metadata": {},
   "outputs": [],
   "source": []
  }
 ]
}